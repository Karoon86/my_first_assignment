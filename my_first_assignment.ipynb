{
  "nbformat": 4,
  "nbformat_minor": 0,
  "metadata": {
    "colab": {
      "provenance": []
    },
    "kernelspec": {
      "name": "python3",
      "display_name": "Python 3"
    },
    "language_info": {
      "name": "python"
    }
  },
  "cells": [
    {
      "cell_type": "markdown",
      "source": [
        "##My Nootbook"
      ],
      "metadata": {
        "id": "Fuq3Tjsh2JXw"
      }
    },
    {
      "cell_type": "markdown",
      "source": [
        "#Objectives:\n",
        "\n",
        "In this notebook, we will:\n",
        "\n",
        "\n",
        "*Explore basic arithmetic expressions in programming.\n",
        "\n",
        "*Learn how to convert minutes to hours using code.\n",
        "\n",
        "*Demonstrate the use of variables and arithmetic operators."
      ],
      "metadata": {
        "id": "2DutSxz66sFk"
      }
    },
    {
      "cell_type": "markdown",
      "source": [
        "##Introduction"
      ],
      "metadata": {
        "id": "uzMNEKzy2Zy-"
      }
    },
    {
      "cell_type": "markdown",
      "source": [
        "###Data Science Languages:\n",
        "Here are some of the popular programming languages used in data science:\n",
        "\n",
        "Python\n",
        "\n",
        "R\n",
        "\n",
        "SQL\n",
        "\n",
        "Java\n",
        "\n",
        "Scala\n",
        "\n",
        "Matlab\n",
        "\n",
        "Julia\n"
      ],
      "metadata": {
        "id": "2iS3v1oX2l2n"
      }
    },
    {
      "cell_type": "markdown",
      "source": [
        "###Data Science Libraries:\n",
        "some of the commonly used data science libraries:\n",
        "\n",
        "Python:\n",
        "NumPy, Pandas, Matplotlib, Seaborn, Scikit-learn, TensorFlow, PyTorch\n",
        "\n",
        "R:\n",
        "tidyverse (including ggplot2, dplyr, etc.), caret, randomForest, xgboost\n",
        "\n",
        "General:\n",
        "Apache Spark, Apache Hadoop, Apache Kafka, Tableau, Power BI\n"
      ],
      "metadata": {
        "id": "RXyjRlt83PTw"
      }
    },
    {
      "cell_type": "markdown",
      "source": [
        "###Data Science Tools:\n"
      ],
      "metadata": {
        "id": "6jk0WWY44cJ0"
      }
    },
    {
      "cell_type": "code",
      "source": [
        "from tabulate import tabulate\n",
        "data = [['Tool', 'Description'],\n",
        "       ['Jupyter Notebook', 'Interactive web-based environment for data analysis and visualization'],\n",
        "       ['RStudio', 'Integrated development environment (IDE) for R programming language'],\n",
        "       ['Apache Spark', 'Unified analytics engine for large-scale data processing'],\n",
        "       ['Hadoop', 'Open-source framework for distributed storage and processing of large datasets'],\n",
        "       ['Tableau', 'Data visualization and business intelligence software'],\n",
        "       ['Power BI', 'Microsoft\\'s data visualization and business analytics service'],\n",
        "       ['Git', 'Distributed version control system for tracking changes in source code'],\n",
        "       ['Docker', 'Container platform for building, deploying, and running applications'],\n",
        "       ['AWS', 'Cloud computing platform that provides a wide range of services for data storage, processing, and analysis'],\n",
        "       ['Google Cloud', 'Cloud computing platform that offers a variety of data-related services']]\n",
        "\n",
        "print(tabulate(data, headers='firstrow', tablefmt=\"grid\"))"
      ],
      "metadata": {
        "colab": {
          "base_uri": "https://localhost:8080/"
        },
        "id": "p-zHqt6m4xQ4",
        "outputId": "4e6761d8-1117-4d7c-d5a7-add013419f76"
      },
      "execution_count": 3,
      "outputs": [
        {
          "output_type": "stream",
          "name": "stdout",
          "text": [
            "+------------------+------------------------------------------------------------------------------------------------------------+\n",
            "| Tool             | Description                                                                                                |\n",
            "+==================+============================================================================================================+\n",
            "| Jupyter Notebook | Interactive web-based environment for data analysis and visualization                                      |\n",
            "+------------------+------------------------------------------------------------------------------------------------------------+\n",
            "| RStudio          | Integrated development environment (IDE) for R programming language                                        |\n",
            "+------------------+------------------------------------------------------------------------------------------------------------+\n",
            "| Apache Spark     | Unified analytics engine for large-scale data processing                                                   |\n",
            "+------------------+------------------------------------------------------------------------------------------------------------+\n",
            "| Hadoop           | Open-source framework for distributed storage and processing of large datasets                             |\n",
            "+------------------+------------------------------------------------------------------------------------------------------------+\n",
            "| Tableau          | Data visualization and business intelligence software                                                      |\n",
            "+------------------+------------------------------------------------------------------------------------------------------------+\n",
            "| Power BI         | Microsoft's data visualization and business analytics service                                              |\n",
            "+------------------+------------------------------------------------------------------------------------------------------------+\n",
            "| Git              | Distributed version control system for tracking changes in source code                                     |\n",
            "+------------------+------------------------------------------------------------------------------------------------------------+\n",
            "| Docker           | Container platform for building, deploying, and running applications                                       |\n",
            "+------------------+------------------------------------------------------------------------------------------------------------+\n",
            "| AWS              | Cloud computing platform that provides a wide range of services for data storage, processing, and analysis |\n",
            "+------------------+------------------------------------------------------------------------------------------------------------+\n",
            "| Google Cloud     | Cloud computing platform that offers a variety of data-related services                                    |\n",
            "+------------------+------------------------------------------------------------------------------------------------------------+\n"
          ]
        }
      ]
    },
    {
      "cell_type": "markdown",
      "source": [
        "###Arithmetic Expression Examples:\n",
        "we will explore some basic arithmetic expressions and their results. Arithmetic expressions involve the use of numerical values and mathematical operators to perform calculations."
      ],
      "metadata": {
        "id": "h5LISbGO5VVQ"
      }
    },
    {
      "cell_type": "markdown",
      "source": [
        "Here's an example of multiplying and adding numbers in Python:\n"
      ],
      "metadata": {
        "id": "rLQjlr9o5pJV"
      }
    },
    {
      "cell_type": "code",
      "source": [
        "# Multiplication\n",
        "a = 5\n",
        "b = 7\n",
        "c = a * b\n",
        "print(c)\n",
        "# Addition\n",
        "x = 10\n",
        "y = 15\n",
        "z= x + y\n",
        "print(z)"
      ],
      "metadata": {
        "colab": {
          "base_uri": "https://localhost:8080/"
        },
        "id": "rX-bRUGP5rB8",
        "outputId": "ba8c0115-1987-4272-b87e-68cadbf2e5ce"
      },
      "execution_count": 6,
      "outputs": [
        {
          "output_type": "stream",
          "name": "stdout",
          "text": [
            "35\n",
            "25\n"
          ]
        }
      ]
    },
    {
      "cell_type": "code",
      "source": [
        "# Convert minutes to hours\n",
        "minutes = 150\n",
        "hours = minutes // 60\n",
        "remaining_minutes = minutes % 60\n",
        "\n",
        "print(f\"{minutes} minutes is equal to {hours} hours and {remaining_minutes} minutes.\")"
      ],
      "metadata": {
        "colab": {
          "base_uri": "https://localhost:8080/"
        },
        "id": "sQEwuaV96Sfx",
        "outputId": "257a6f76-3154-4538-a1c3-b5a9173a4249"
      },
      "execution_count": 7,
      "outputs": [
        {
          "output_type": "stream",
          "name": "stdout",
          "text": [
            "150 minutes is equal to 2 hours and 30 minutes.\n"
          ]
        }
      ]
    },
    {
      "cell_type": "markdown",
      "source": [
        "#Author:\n",
        "\n",
        "This notebook was created by Maya."
      ],
      "metadata": {
        "id": "lCIuDi3t7EXR"
      }
    },
    {
      "cell_type": "markdown",
      "source": [],
      "metadata": {
        "id": "tuBnyU4v2khJ"
      }
    }
  ]
}